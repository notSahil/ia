{
  "nbformat": 4,
  "nbformat_minor": 0,
  "metadata": {
    "colab": {
      "provenance": [],
      "toc_visible": true,
      "authorship_tag": "ABX9TyNX/ueaygvvk8xPzx0NjMe9",
      "include_colab_link": true
    },
    "kernelspec": {
      "name": "python3",
      "display_name": "Python 3"
    },
    "language_info": {
      "name": "python"
    }
  },
  "cells": [
    {
      "cell_type": "markdown",
      "metadata": {
        "id": "view-in-github",
        "colab_type": "text"
      },
      "source": [
        "<a href=\"https://colab.research.google.com/github/notSahil/ia/blob/main/newsAPI.ipynb\" target=\"_parent\"><img src=\"https://colab.research.google.com/assets/colab-badge.svg\" alt=\"Open In Colab\"/></a>"
      ]
    },
    {
      "cell_type": "markdown",
      "source": [
        "# Set up newsAPI"
      ],
      "metadata": {
        "id": "SEnG00rNpWhC"
      }
    },
    {
      "cell_type": "markdown",
      "source": [
        "Install libaries\n"
      ],
      "metadata": {
        "id": "t4cp0id4oFJ3"
      }
    },
    {
      "cell_type": "code",
      "source": [
        "!pip install newsapi-python\n",
        "!pip install vaderSentiment\n"
      ],
      "metadata": {
        "colab": {
          "base_uri": "https://localhost:8080/"
        },
        "collapsed": true,
        "id": "5llFQTfAoIGO",
        "outputId": "2b2eaf0d-9f3d-4a6a-9f75-08436bee3d97"
      },
      "execution_count": 1,
      "outputs": [
        {
          "output_type": "stream",
          "name": "stdout",
          "text": [
            "Collecting newsapi-python\n",
            "  Downloading newsapi_python-0.2.7-py2.py3-none-any.whl (7.9 kB)\n",
            "Requirement already satisfied: requests<3.0.0 in /usr/local/lib/python3.10/dist-packages (from newsapi-python) (2.31.0)\n",
            "Requirement already satisfied: charset-normalizer<4,>=2 in /usr/local/lib/python3.10/dist-packages (from requests<3.0.0->newsapi-python) (3.3.2)\n",
            "Requirement already satisfied: idna<4,>=2.5 in /usr/local/lib/python3.10/dist-packages (from requests<3.0.0->newsapi-python) (3.7)\n",
            "Requirement already satisfied: urllib3<3,>=1.21.1 in /usr/local/lib/python3.10/dist-packages (from requests<3.0.0->newsapi-python) (2.0.7)\n",
            "Requirement already satisfied: certifi>=2017.4.17 in /usr/local/lib/python3.10/dist-packages (from requests<3.0.0->newsapi-python) (2024.6.2)\n",
            "Installing collected packages: newsapi-python\n",
            "Successfully installed newsapi-python-0.2.7\n",
            "Collecting vaderSentiment\n",
            "  Downloading vaderSentiment-3.3.2-py2.py3-none-any.whl (125 kB)\n",
            "\u001b[2K     \u001b[90m━━━━━━━━━━━━━━━━━━━━━━━━━━━━━━━━━━━━━━━━\u001b[0m \u001b[32m126.0/126.0 kB\u001b[0m \u001b[31m1.2 MB/s\u001b[0m eta \u001b[36m0:00:00\u001b[0m\n",
            "\u001b[?25hRequirement already satisfied: requests in /usr/local/lib/python3.10/dist-packages (from vaderSentiment) (2.31.0)\n",
            "Requirement already satisfied: charset-normalizer<4,>=2 in /usr/local/lib/python3.10/dist-packages (from requests->vaderSentiment) (3.3.2)\n",
            "Requirement already satisfied: idna<4,>=2.5 in /usr/local/lib/python3.10/dist-packages (from requests->vaderSentiment) (3.7)\n",
            "Requirement already satisfied: urllib3<3,>=1.21.1 in /usr/local/lib/python3.10/dist-packages (from requests->vaderSentiment) (2.0.7)\n",
            "Requirement already satisfied: certifi>=2017.4.17 in /usr/local/lib/python3.10/dist-packages (from requests->vaderSentiment) (2024.6.2)\n",
            "Installing collected packages: vaderSentiment\n",
            "Successfully installed vaderSentiment-3.3.2\n"
          ]
        }
      ]
    },
    {
      "cell_type": "markdown",
      "source": [
        "Fetch News Articles and Perform Sentiment Analysis"
      ],
      "metadata": {
        "id": "sMgPhzs9oMtt"
      }
    },
    {
      "cell_type": "code",
      "source": [
        "from newsapi import NewsApiClient\n",
        "from vaderSentiment.vaderSentiment import SentimentIntensityAnalyzer\n",
        "\n",
        "# Initialize NewsAPI client\n",
        "news_api_key = 'a7f86b993390410ba801b22290e7f801'\n",
        "newsapi = NewsApiClient(api_key=news_api_key)\n",
        "\n",
        "# Fetch news articles\n",
        "def fetch_news(query='stock market', language='en', page_size=100):\n",
        "    articles = newsapi.get_everything(q=query, language=language, page_size=page_size)\n",
        "    return articles['articles']\n",
        "\n",
        "# Perform sentiment analysis on news articles\n",
        "def analyze_sentiment(text):\n",
        "    analyzer = SentimentIntensityAnalyzer()\n",
        "    sentiment = analyzer.polarity_scores(text)\n",
        "    return sentiment\n",
        "\n",
        "# Example usage\n",
        "articles = fetch_news(query='Indian stock market')\n",
        "for article in articles[:5]:\n",
        "    print(f\"Title: {article['title']}\")\n",
        "    sentiment = analyze_sentiment(article['description'] if article['description'] else article['title'])\n",
        "    print(f\"Sentiment: {sentiment}\")\n"
      ],
      "metadata": {
        "colab": {
          "base_uri": "https://localhost:8080/"
        },
        "id": "hgh1foY2oOB4",
        "outputId": "fb356aa1-a05d-4d86-d239-72b08efd3a85"
      },
      "execution_count": 3,
      "outputs": [
        {
          "output_type": "stream",
          "name": "stdout",
          "text": [
            "Title: Indian stocks post their biggest losses since the pandemic after Modi fails to win a landslide\n",
            "Sentiment: {'neg': 0.0, 'neu': 0.723, 'pos': 0.277, 'compound': 0.7579}\n",
            "Title: The year of the election just delivered its first big stock-market shocks\n",
            "Sentiment: {'neg': 0.0, 'neu': 0.909, 'pos': 0.091, 'compound': 0.2732}\n",
            "Title: Jamie Dimon probably isn't too happy about how the Indian election went\n",
            "Sentiment: {'neg': 0.0, 'neu': 0.825, 'pos': 0.175, 'compound': 0.5574}\n",
            "Title: Yes, Narendra Modi won again. So what's all the fuss about?\n",
            "Sentiment: {'neg': 0.0, 'neu': 0.782, 'pos': 0.218, 'compound': 0.7506}\n",
            "Title: It's been 3 days since Modi won, and we're already seeing what it's costing him\n",
            "Sentiment: {'neg': 0.0, 'neu': 1.0, 'pos': 0.0, 'compound': 0.0}\n"
          ]
        }
      ]
    },
    {
      "cell_type": "markdown",
      "source": [
        "# Step 2: Set Up Twitter API"
      ],
      "metadata": {
        "id": "ROOlsq--pOcV"
      }
    },
    {
      "cell_type": "markdown",
      "source": [
        "2.1 Sign Up for Twitter Developer Account\n",
        "Go to Twitter Developer and sign up to create an application and get API keys.\n",
        "2.2 Install Required Libraries\n",
        "Install the tweepy library to interact with Twitter API."
      ],
      "metadata": {
        "id": "phpf9bhSpqGt"
      }
    },
    {
      "cell_type": "code",
      "source": [
        "!pip install tweepy\n"
      ],
      "metadata": {
        "id": "y3KXEXtApTpT"
      },
      "execution_count": null,
      "outputs": []
    },
    {
      "cell_type": "code",
      "source": [
        "import tweepy\n",
        "from vaderSentiment.vaderSentiment import SentimentIntensityAnalyzer\n",
        "\n",
        "# Twitter API credentials\n",
        "twitter_api_key = 'your_twitter_api_key'\n",
        "twitter_api_secret_key = 'your_twitter_api_secret_key'\n",
        "twitter_access_token = 'your_twitter_access_token'\n",
        "twitter_access_token_secret = 'your_twitter_access_token_secret'\n",
        "\n",
        "# Initialize Tweepy client\n",
        "auth = tweepy.OAuthHandler(twitter_api_key, twitter_api_secret_key)\n",
        "auth.set_access_token(twitter_access_token, twitter_access_token_secret)\n",
        "api = tweepy.API(auth)\n",
        "\n",
        "# Fetch tweets\n",
        "def fetch_tweets(query, count=100, lang='en'):\n",
        "    tweets = api.search_tweets(q=query, count=count, lang=lang)\n",
        "    return tweets\n",
        "\n",
        "# Perform sentiment analysis on tweets\n",
        "def analyze_tweet_sentiment(text):\n",
        "    analyzer = SentimentIntensityAnalyzer()\n",
        "    sentiment = analyzer.polarity_scores(text)\n",
        "    return sentiment\n",
        "\n",
        "# Example usage\n",
        "tweets = fetch_tweets(query='#IndianStockMarket', count=100)\n",
        "for tweet in tweets[:5]:\n",
        "    print(f\"Tweet: {tweet.text}\")\n",
        "    sentiment = analyze_tweet_sentiment(tweet.text)\n",
        "    print(f\"Sentiment: {sentiment}\")\n"
      ],
      "metadata": {
        "id": "_3iejSzqpwZR"
      },
      "execution_count": null,
      "outputs": []
    },
    {
      "cell_type": "markdown",
      "source": [
        "# Full pipeline"
      ],
      "metadata": {
        "id": "cyEqn3P4p5Xl"
      }
    },
    {
      "cell_type": "code",
      "source": [
        "!pip install newsapi-python tweepy vaderSentiment\n",
        "\n",
        "from newsapi import NewsApiClient\n",
        "from vaderSentiment.vaderSentiment import SentimentIntensityAnalyzer\n",
        "import tweepy\n",
        "\n",
        "# Initialize NewsAPI client\n",
        "news_api_key = 'your_newsapi_key'\n",
        "newsapi = NewsApiClient(api_key=news_api_key)\n",
        "\n",
        "# Initialize Tweepy client\n",
        "twitter_api_key = 'your_twitter_api_key'\n",
        "twitter_api_secret_key = 'your_twitter_api_secret_key'\n",
        "twitter_access_token = 'your_twitter_access_token'\n",
        "twitter_access_token_secret = 'your_twitter_access_token_secret'\n",
        "\n",
        "auth = tweepy.OAuthHandler(twitter_api_key, twitter_api_secret_key)\n",
        "auth.set_access_token(twitter_access_token, twitter_access_token_secret)\n",
        "api = tweepy.API(auth)\n",
        "\n",
        "# Fetch news articles\n",
        "def fetch_news(query='stock market', language='en', page_size=100):\n",
        "    articles = newsapi.get_everything(q=query, language=language, page_size=page_size)\n",
        "    return articles['articles']\n",
        "\n",
        "# Fetch tweets\n",
        "def fetch_tweets(query, count=100, lang='en'):\n",
        "    tweets = api.search_tweets(q=query, count=count, lang=lang)\n",
        "    return tweets\n",
        "\n",
        "# Perform sentiment analysis\n",
        "def analyze_sentiment(text):\n",
        "    analyzer = SentimentIntensityAnalyzer()\n",
        "    sentiment = analyzer.polarity_scores(text)\n",
        "    return sentiment\n",
        "\n",
        "# Example usage\n",
        "print(\"News Sentiment Analysis:\")\n",
        "articles = fetch_news(query='Indian stock market')\n",
        "for article in articles[:5]:\n",
        "    print(f\"Title: {article['title']}\")\n",
        "    sentiment = analyze_sentiment(article['description'] if article['description'] else article['title'])\n",
        "    print(f\"Sentiment: {sentiment}\")\n",
        "\n",
        "print(\"\\nTwitter Sentiment Analysis:\")\n",
        "tweets = fetch_tweets(query='#IndianStockMarket', count=100)\n",
        "for tweet in tweets[:5]:\n",
        "    print(f\"Tweet: {tweet.text}\")\n",
        "    sentiment = analyze_sentiment(tweet.text)\n",
        "    print(f\"Sentiment: {sentiment}\")\n"
      ],
      "metadata": {
        "id": "3L00beUYp9vi"
      },
      "execution_count": null,
      "outputs": []
    }
  ]
}